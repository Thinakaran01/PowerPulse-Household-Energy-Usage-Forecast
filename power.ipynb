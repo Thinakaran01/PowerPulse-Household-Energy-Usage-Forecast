{
 "cells": [
  {
   "cell_type": "code",
   "execution_count": 9,
   "metadata": {},
   "outputs": [
    {
     "name": "stdout",
     "output_type": "stream",
     "text": [
      "✅ Conversion completed! CSV file saved as: power_consumption.csv\n"
     ]
    }
   ],
   "source": [
    "import pandas as pd\n",
    "\n",
    "# Input and output file paths\n",
    "input_file = r\"D:\\New folder (5)\\Household Electric Power Consumption\\household_power_consumption.txt\"  # Replace with your actual file\n",
    "output_file = \"power_consumption.csv\"\n",
    "\n",
    "# Read the semicolon-separated file\n",
    "df = pd.read_csv(input_file, sep=\";\", engine=\"python\")\n",
    "\n",
    "# Save it as a CSV file (comma-separated)\n",
    "df.to_csv(output_file, index=False)\n",
    "\n",
    "print(\"✅ Conversion completed! CSV file saved as:\", output_file)\n"
   ]
  },
  {
   "cell_type": "code",
   "execution_count": 10,
   "metadata": {},
   "outputs": [
    {
     "name": "stderr",
     "output_type": "stream",
     "text": [
      "C:\\Users\\DELL\\AppData\\Local\\Temp\\ipykernel_26200\\1299806323.py:1: DtypeWarning: Columns (2,3,4,5,6,7) have mixed types. Specify dtype option on import or set low_memory=False.\n",
      "  power=pd.read_csv(r'D:\\New folder (5)\\Household Electric Power Consumption\\power_consumption.csv')\n"
     ]
    },
    {
     "data": {
      "text/html": [
       "<div>\n",
       "<style scoped>\n",
       "    .dataframe tbody tr th:only-of-type {\n",
       "        vertical-align: middle;\n",
       "    }\n",
       "\n",
       "    .dataframe tbody tr th {\n",
       "        vertical-align: top;\n",
       "    }\n",
       "\n",
       "    .dataframe thead th {\n",
       "        text-align: right;\n",
       "    }\n",
       "</style>\n",
       "<table border=\"1\" class=\"dataframe\">\n",
       "  <thead>\n",
       "    <tr style=\"text-align: right;\">\n",
       "      <th></th>\n",
       "      <th>Date</th>\n",
       "      <th>Time</th>\n",
       "      <th>Global_active_power</th>\n",
       "      <th>Global_reactive_power</th>\n",
       "      <th>Voltage</th>\n",
       "      <th>Global_intensity</th>\n",
       "      <th>Sub_metering_1</th>\n",
       "      <th>Sub_metering_2</th>\n",
       "      <th>Sub_metering_3</th>\n",
       "    </tr>\n",
       "  </thead>\n",
       "  <tbody>\n",
       "    <tr>\n",
       "      <th>0</th>\n",
       "      <td>16/12/2006</td>\n",
       "      <td>17:24:00</td>\n",
       "      <td>4.216</td>\n",
       "      <td>0.418</td>\n",
       "      <td>234.840</td>\n",
       "      <td>18.400</td>\n",
       "      <td>0.000</td>\n",
       "      <td>1.000</td>\n",
       "      <td>17.0</td>\n",
       "    </tr>\n",
       "    <tr>\n",
       "      <th>1</th>\n",
       "      <td>16/12/2006</td>\n",
       "      <td>17:25:00</td>\n",
       "      <td>5.360</td>\n",
       "      <td>0.436</td>\n",
       "      <td>233.630</td>\n",
       "      <td>23.000</td>\n",
       "      <td>0.000</td>\n",
       "      <td>1.000</td>\n",
       "      <td>16.0</td>\n",
       "    </tr>\n",
       "    <tr>\n",
       "      <th>2</th>\n",
       "      <td>16/12/2006</td>\n",
       "      <td>17:26:00</td>\n",
       "      <td>5.374</td>\n",
       "      <td>0.498</td>\n",
       "      <td>233.290</td>\n",
       "      <td>23.000</td>\n",
       "      <td>0.000</td>\n",
       "      <td>2.000</td>\n",
       "      <td>17.0</td>\n",
       "    </tr>\n",
       "    <tr>\n",
       "      <th>3</th>\n",
       "      <td>16/12/2006</td>\n",
       "      <td>17:27:00</td>\n",
       "      <td>5.388</td>\n",
       "      <td>0.502</td>\n",
       "      <td>233.740</td>\n",
       "      <td>23.000</td>\n",
       "      <td>0.000</td>\n",
       "      <td>1.000</td>\n",
       "      <td>17.0</td>\n",
       "    </tr>\n",
       "    <tr>\n",
       "      <th>4</th>\n",
       "      <td>16/12/2006</td>\n",
       "      <td>17:28:00</td>\n",
       "      <td>3.666</td>\n",
       "      <td>0.528</td>\n",
       "      <td>235.680</td>\n",
       "      <td>15.800</td>\n",
       "      <td>0.000</td>\n",
       "      <td>1.000</td>\n",
       "      <td>17.0</td>\n",
       "    </tr>\n",
       "  </tbody>\n",
       "</table>\n",
       "</div>"
      ],
      "text/plain": [
       "         Date      Time Global_active_power Global_reactive_power  Voltage  \\\n",
       "0  16/12/2006  17:24:00               4.216                 0.418  234.840   \n",
       "1  16/12/2006  17:25:00               5.360                 0.436  233.630   \n",
       "2  16/12/2006  17:26:00               5.374                 0.498  233.290   \n",
       "3  16/12/2006  17:27:00               5.388                 0.502  233.740   \n",
       "4  16/12/2006  17:28:00               3.666                 0.528  235.680   \n",
       "\n",
       "  Global_intensity Sub_metering_1 Sub_metering_2  Sub_metering_3  \n",
       "0           18.400          0.000          1.000            17.0  \n",
       "1           23.000          0.000          1.000            16.0  \n",
       "2           23.000          0.000          2.000            17.0  \n",
       "3           23.000          0.000          1.000            17.0  \n",
       "4           15.800          0.000          1.000            17.0  "
      ]
     },
     "execution_count": 10,
     "metadata": {},
     "output_type": "execute_result"
    }
   ],
   "source": [
    "power=pd.read_csv(r'D:\\New folder (5)\\Household Electric Power Consumption\\power_consumption.csv')\n",
    "power.head()"
   ]
  },
  {
   "cell_type": "code",
   "execution_count": 11,
   "metadata": {},
   "outputs": [
    {
     "name": "stdout",
     "output_type": "stream",
     "text": [
      "<class 'pandas.core.frame.DataFrame'>\n",
      "RangeIndex: 2075259 entries, 0 to 2075258\n",
      "Data columns (total 9 columns):\n",
      " #   Column                 Dtype  \n",
      "---  ------                 -----  \n",
      " 0   Date                   object \n",
      " 1   Time                   object \n",
      " 2   Global_active_power    object \n",
      " 3   Global_reactive_power  object \n",
      " 4   Voltage                object \n",
      " 5   Global_intensity       object \n",
      " 6   Sub_metering_1         object \n",
      " 7   Sub_metering_2         object \n",
      " 8   Sub_metering_3         float64\n",
      "dtypes: float64(1), object(8)\n",
      "memory usage: 142.5+ MB\n"
     ]
    }
   ],
   "source": [
    "power.info()"
   ]
  },
  {
   "cell_type": "code",
   "execution_count": 12,
   "metadata": {},
   "outputs": [
    {
     "name": "stdout",
     "output_type": "stream",
     "text": [
      "Date                         0\n",
      "Time                         0\n",
      "Global_active_power          0\n",
      "Global_reactive_power        0\n",
      "Voltage                      0\n",
      "Global_intensity             0\n",
      "Sub_metering_1               0\n",
      "Sub_metering_2               0\n",
      "Sub_metering_3           25979\n",
      "dtype: int64\n"
     ]
    }
   ],
   "source": [
    "print(power.isnull().sum())  # Count missing values per column\n"
   ]
  },
  {
   "cell_type": "code",
   "execution_count": 14,
   "metadata": {},
   "outputs": [
    {
     "name": "stdout",
     "output_type": "stream",
     "text": [
      "0\n"
     ]
    }
   ],
   "source": [
    "\n",
    "print(power.duplicated().sum())  # Count duplicate rows\n",
    "\n"
   ]
  },
  {
   "cell_type": "code",
   "execution_count": 15,
   "metadata": {},
   "outputs": [
    {
     "name": "stdout",
     "output_type": "stream",
     "text": [
      "Date                      object\n",
      "Time                      object\n",
      "Global_active_power      float64\n",
      "Global_reactive_power    float64\n",
      "Voltage                  float64\n",
      "Global_intensity         float64\n",
      "Sub_metering_1           float64\n",
      "Sub_metering_2           float64\n",
      "Sub_metering_3           float64\n",
      "dtype: object\n",
      "         Date      Time  Global_active_power  Global_reactive_power  Voltage  \\\n",
      "0  16/12/2006  17:24:00                4.216                  0.418   234.84   \n",
      "1  16/12/2006  17:25:00                5.360                  0.436   233.63   \n",
      "2  16/12/2006  17:26:00                5.374                  0.498   233.29   \n",
      "3  16/12/2006  17:27:00                5.388                  0.502   233.74   \n",
      "4  16/12/2006  17:28:00                3.666                  0.528   235.68   \n",
      "\n",
      "   Global_intensity  Sub_metering_1  Sub_metering_2  Sub_metering_3  \n",
      "0              18.4             0.0             1.0            17.0  \n",
      "1              23.0             0.0             1.0            16.0  \n",
      "2              23.0             0.0             2.0            17.0  \n",
      "3              23.0             0.0             1.0            17.0  \n",
      "4              15.8             0.0             1.0            17.0  \n"
     ]
    }
   ],
   "source": [
    "# Identify numeric columns\n",
    "numeric_cols = [\"Global_active_power\", \"Global_reactive_power\", \"Voltage\", \n",
    "                \"Global_intensity\", \"Sub_metering_1\", \"Sub_metering_2\", \"Sub_metering_3\"]\n",
    "\n",
    "# Convert object columns to float (force conversion, replacing errors with NaN)\n",
    "power[numeric_cols] = power[numeric_cols].apply(pd.to_numeric, errors=\"coerce\")\n",
    "\n",
    "# Check for successful conversion\n",
    "print(power.dtypes)\n",
    "print(power.head())"
   ]
  },
  {
   "cell_type": "code",
   "execution_count": 16,
   "metadata": {},
   "outputs": [
    {
     "name": "stdout",
     "output_type": "stream",
     "text": [
      "Global_active_power             float64\n",
      "Global_reactive_power           float64\n",
      "Voltage                         float64\n",
      "Global_intensity                float64\n",
      "Sub_metering_1                  float64\n",
      "Sub_metering_2                  float64\n",
      "Sub_metering_3                  float64\n",
      "Datetime                 datetime64[ns]\n",
      "dtype: object\n"
     ]
    }
   ],
   "source": [
    "# Convert 'Date' and 'Time' to a single datetime column\n",
    "power[\"Datetime\"] = pd.to_datetime(power[\"Date\"] + \" \" + power[\"Time\"], format=\"%d/%m/%Y %H:%M:%S\")\n",
    "\n",
    "# Drop original Date & Time columns\n",
    "power.drop(columns=[\"Date\", \"Time\"], inplace=True)\n",
    "\n",
    "print(power.dtypes)"
   ]
  },
  {
   "cell_type": "code",
   "execution_count": 17,
   "metadata": {},
   "outputs": [
    {
     "data": {
      "text/html": [
       "<div>\n",
       "<style scoped>\n",
       "    .dataframe tbody tr th:only-of-type {\n",
       "        vertical-align: middle;\n",
       "    }\n",
       "\n",
       "    .dataframe tbody tr th {\n",
       "        vertical-align: top;\n",
       "    }\n",
       "\n",
       "    .dataframe thead th {\n",
       "        text-align: right;\n",
       "    }\n",
       "</style>\n",
       "<table border=\"1\" class=\"dataframe\">\n",
       "  <thead>\n",
       "    <tr style=\"text-align: right;\">\n",
       "      <th></th>\n",
       "      <th>Global_active_power</th>\n",
       "      <th>Global_reactive_power</th>\n",
       "      <th>Voltage</th>\n",
       "      <th>Global_intensity</th>\n",
       "      <th>Sub_metering_1</th>\n",
       "      <th>Sub_metering_2</th>\n",
       "      <th>Sub_metering_3</th>\n",
       "      <th>Datetime</th>\n",
       "    </tr>\n",
       "  </thead>\n",
       "  <tbody>\n",
       "    <tr>\n",
       "      <th>0</th>\n",
       "      <td>4.216</td>\n",
       "      <td>0.418</td>\n",
       "      <td>234.84</td>\n",
       "      <td>18.4</td>\n",
       "      <td>0.0</td>\n",
       "      <td>1.0</td>\n",
       "      <td>17.0</td>\n",
       "      <td>2006-12-16 17:24:00</td>\n",
       "    </tr>\n",
       "    <tr>\n",
       "      <th>1</th>\n",
       "      <td>5.360</td>\n",
       "      <td>0.436</td>\n",
       "      <td>233.63</td>\n",
       "      <td>23.0</td>\n",
       "      <td>0.0</td>\n",
       "      <td>1.0</td>\n",
       "      <td>16.0</td>\n",
       "      <td>2006-12-16 17:25:00</td>\n",
       "    </tr>\n",
       "    <tr>\n",
       "      <th>2</th>\n",
       "      <td>5.374</td>\n",
       "      <td>0.498</td>\n",
       "      <td>233.29</td>\n",
       "      <td>23.0</td>\n",
       "      <td>0.0</td>\n",
       "      <td>2.0</td>\n",
       "      <td>17.0</td>\n",
       "      <td>2006-12-16 17:26:00</td>\n",
       "    </tr>\n",
       "    <tr>\n",
       "      <th>3</th>\n",
       "      <td>5.388</td>\n",
       "      <td>0.502</td>\n",
       "      <td>233.74</td>\n",
       "      <td>23.0</td>\n",
       "      <td>0.0</td>\n",
       "      <td>1.0</td>\n",
       "      <td>17.0</td>\n",
       "      <td>2006-12-16 17:27:00</td>\n",
       "    </tr>\n",
       "    <tr>\n",
       "      <th>4</th>\n",
       "      <td>3.666</td>\n",
       "      <td>0.528</td>\n",
       "      <td>235.68</td>\n",
       "      <td>15.8</td>\n",
       "      <td>0.0</td>\n",
       "      <td>1.0</td>\n",
       "      <td>17.0</td>\n",
       "      <td>2006-12-16 17:28:00</td>\n",
       "    </tr>\n",
       "  </tbody>\n",
       "</table>\n",
       "</div>"
      ],
      "text/plain": [
       "   Global_active_power  Global_reactive_power  Voltage  Global_intensity  \\\n",
       "0                4.216                  0.418   234.84              18.4   \n",
       "1                5.360                  0.436   233.63              23.0   \n",
       "2                5.374                  0.498   233.29              23.0   \n",
       "3                5.388                  0.502   233.74              23.0   \n",
       "4                3.666                  0.528   235.68              15.8   \n",
       "\n",
       "   Sub_metering_1  Sub_metering_2  Sub_metering_3            Datetime  \n",
       "0             0.0             1.0            17.0 2006-12-16 17:24:00  \n",
       "1             0.0             1.0            16.0 2006-12-16 17:25:00  \n",
       "2             0.0             2.0            17.0 2006-12-16 17:26:00  \n",
       "3             0.0             1.0            17.0 2006-12-16 17:27:00  \n",
       "4             0.0             1.0            17.0 2006-12-16 17:28:00  "
      ]
     },
     "execution_count": 17,
     "metadata": {},
     "output_type": "execute_result"
    }
   ],
   "source": [
    "power.head()"
   ]
  },
  {
   "cell_type": "code",
   "execution_count": 31,
   "metadata": {},
   "outputs": [],
   "source": [
    "numeric_cols = [\"Sub_metering_1\", \"Sub_metering_2\", \"Sub_metering_3\"]\n",
    "power[numeric_cols] = power[numeric_cols].apply(pd.to_numeric, errors=\"coerce\")\n"
   ]
  },
  {
   "cell_type": "code",
   "execution_count": 32,
   "metadata": {},
   "outputs": [
    {
     "name": "stdout",
     "output_type": "stream",
     "text": [
      "<class 'pandas.core.frame.DataFrame'>\n",
      "RangeIndex: 2075259 entries, 0 to 2075258\n",
      "Data columns (total 8 columns):\n",
      " #   Column                 Dtype         \n",
      "---  ------                 -----         \n",
      " 0   Global_active_power    float64       \n",
      " 1   Global_reactive_power  float64       \n",
      " 2   Voltage                float64       \n",
      " 3   Global_intensity       float64       \n",
      " 4   Sub_metering_1         float64       \n",
      " 5   Sub_metering_2         float64       \n",
      " 6   Sub_metering_3         float64       \n",
      " 7   Datetime               datetime64[ns]\n",
      "dtypes: datetime64[ns](1), float64(7)\n",
      "memory usage: 126.7 MB\n"
     ]
    }
   ],
   "source": [
    "power.info()"
   ]
  },
  {
   "cell_type": "code",
   "execution_count": 39,
   "metadata": {},
   "outputs": [
    {
     "name": "stdout",
     "output_type": "stream",
     "text": [
      "25979\n",
      "25979\n",
      "25979\n"
     ]
    }
   ],
   "source": [
    "nan1=power['Sub_metering_1'].isna().sum()\n",
    "nan2=power['Sub_metering_2'].isna().sum()\n",
    "nan3=power['Sub_metering_2'].isna().sum()\n",
    "\n",
    "\n",
    "print(nan1)\n",
    "print(nan2)\n",
    "print(nan3)"
   ]
  },
  {
   "cell_type": "code",
   "execution_count": 40,
   "metadata": {},
   "outputs": [
    {
     "name": "stdout",
     "output_type": "stream",
     "text": [
      "25979\n"
     ]
    }
   ],
   "source": [
    "print(power['Sub_metering_1'].isna().sum())"
   ]
  },
  {
   "cell_type": "code",
   "execution_count": 41,
   "metadata": {},
   "outputs": [
    {
     "name": "stdout",
     "output_type": "stream",
     "text": [
      "25979\n"
     ]
    }
   ],
   "source": [
    "print(power['Sub_metering_2'].isna().sum())"
   ]
  },
  {
   "cell_type": "code",
   "execution_count": 42,
   "metadata": {},
   "outputs": [
    {
     "name": "stdout",
     "output_type": "stream",
     "text": [
      "25979\n"
     ]
    }
   ],
   "source": [
    "print(power['Sub_metering_3'].isna().sum())"
   ]
  },
  {
   "cell_type": "code",
   "execution_count": 44,
   "metadata": {},
   "outputs": [
    {
     "name": "stdout",
     "output_type": "stream",
     "text": [
      "25979\n"
     ]
    }
   ],
   "source": [
    "print(power['Global_reactive_power'].isna().sum())"
   ]
  },
  {
   "cell_type": "code",
   "execution_count": 45,
   "metadata": {},
   "outputs": [
    {
     "name": "stdout",
     "output_type": "stream",
     "text": [
      "25979\n"
     ]
    }
   ],
   "source": [
    "print(power['Voltage'].isna().sum())"
   ]
  },
  {
   "cell_type": "code",
   "execution_count": 46,
   "metadata": {},
   "outputs": [
    {
     "name": "stdout",
     "output_type": "stream",
     "text": [
      "📌 Columns containing '?':\n",
      " Series([], dtype: int64) \n",
      "\n"
     ]
    }
   ],
   "source": [
    "question_mark_counts = (power == \"?\").sum()\n",
    "print(\"📌 Columns containing '?':\\n\", question_mark_counts[question_mark_counts > 0], \"\\n\")"
   ]
  },
  {
   "cell_type": "code",
   "execution_count": 47,
   "metadata": {},
   "outputs": [],
   "source": [
    "import numpy as np\n",
    "power.replace(\"?\", np.nan, inplace=True)"
   ]
  },
  {
   "cell_type": "code",
   "execution_count": 48,
   "metadata": {},
   "outputs": [
    {
     "name": "stdout",
     "output_type": "stream",
     "text": [
      "📌 Missing Values After Fix:\n",
      " Global_active_power      25979\n",
      "Global_reactive_power    25979\n",
      "Voltage                  25979\n",
      "Global_intensity         25979\n",
      "Sub_metering_1           25979\n",
      "Sub_metering_2           25979\n",
      "Sub_metering_3           25979\n",
      "dtype: int64 \n",
      "\n"
     ]
    }
   ],
   "source": [
    "missing_values = power.isna().sum()\n",
    "print(\"📌 Missing Values After Fix:\\n\", missing_values[missing_values > 0], \"\\n\")\n"
   ]
  },
  {
   "cell_type": "code",
   "execution_count": 49,
   "metadata": {},
   "outputs": [
    {
     "name": "stdout",
     "output_type": "stream",
     "text": [
      "📊 Statistics for Global_active_power:\n",
      "   Mean: 1.0916\n",
      "   Median: 0.6020\n",
      "   Mode: 0.218\n",
      "----------------------------------------\n",
      "📊 Statistics for Global_reactive_power:\n",
      "   Mean: 0.1237\n",
      "   Median: 0.1000\n",
      "   Mode: No mode found\n",
      "----------------------------------------\n",
      "📊 Statistics for Voltage:\n",
      "   Mean: 240.8399\n",
      "   Median: 241.0100\n",
      "   Mode: 241.18\n",
      "----------------------------------------\n",
      "📊 Statistics for Global_intensity:\n",
      "   Mean: 4.6278\n",
      "   Median: 2.6000\n",
      "   Mode: 1.0\n",
      "----------------------------------------\n",
      "📊 Statistics for Sub_metering_1:\n",
      "   Mean: 1.1219\n",
      "   Median: 0.0000\n",
      "   Mode: No mode found\n",
      "----------------------------------------\n",
      "📊 Statistics for Sub_metering_2:\n",
      "   Mean: 1.2985\n",
      "   Median: 0.0000\n",
      "   Mode: No mode found\n",
      "----------------------------------------\n",
      "📊 Statistics for Sub_metering_3:\n",
      "   Mean: 6.4584\n",
      "   Median: 1.0000\n",
      "   Mode: No mode found\n",
      "----------------------------------------\n"
     ]
    }
   ],
   "source": [
    "import pandas as pd\n",
    "import numpy as np\n",
    "\n",
    "# Assuming '?' has been replaced with NaN, convert columns to float\n",
    "numeric_cols = [\"Global_active_power\", \"Global_reactive_power\", \"Voltage\",\n",
    "                \"Global_intensity\", \"Sub_metering_1\", \"Sub_metering_2\", \"Sub_metering_3\"]\n",
    "\n",
    "power[numeric_cols] = power[numeric_cols].astype(float)\n",
    "\n",
    "# Calculate mean, median, and mode\n",
    "stats = {}\n",
    "for col in numeric_cols:\n",
    "    mean_val = power[col].mean()\n",
    "    median_val = power[col].median()\n",
    "    mode_val = power[col].mode()\n",
    "\n",
    "    # Exclude 0 from mode if needed\n",
    "    mode_val = mode_val[mode_val != 0].values  # Remove zero modes\n",
    "    \n",
    "    stats[col] = {\n",
    "        \"Mean\": mean_val,\n",
    "        \"Median\": median_val,\n",
    "        \"Mode\": mode_val[0] if len(mode_val) > 0 else \"No mode found\"\n",
    "    }\n",
    "\n",
    "# Print results\n",
    "for col, values in stats.items():\n",
    "    print(f\"📊 Statistics for {col}:\")\n",
    "    print(f\"   Mean: {values['Mean']:.4f}\")\n",
    "    print(f\"   Median: {values['Median']:.4f}\")\n",
    "    print(f\"   Mode: {values['Mode']}\")\n",
    "    print(\"-\" * 40)\n"
   ]
  },
  {
   "cell_type": "code",
   "execution_count": 50,
   "metadata": {},
   "outputs": [
    {
     "name": "stdout",
     "output_type": "stream",
     "text": [
      "Global_active_power      0\n",
      "Global_reactive_power    0\n",
      "Voltage                  0\n",
      "Global_intensity         0\n",
      "Sub_metering_1           0\n",
      "Sub_metering_2           0\n",
      "Sub_metering_3           0\n",
      "Datetime                 0\n",
      "dtype: int64\n"
     ]
    }
   ],
   "source": [
    "# Replace NaN values with the mean of the respective column\n",
    "power.fillna(power.mean(), inplace=True)\n",
    "\n",
    "# Verify if NaN values are replaced\n",
    "print(power.isna().sum())  # Should print all zeros\n"
   ]
  },
  {
   "cell_type": "code",
   "execution_count": 51,
   "metadata": {},
   "outputs": [
    {
     "name": "stdout",
     "output_type": "stream",
     "text": [
      "Missing values after replacement:\n",
      " Global_active_power      0\n",
      "Global_reactive_power    0\n",
      "Voltage                  0\n",
      "Global_intensity         0\n",
      "Sub_metering_1           0\n",
      "Sub_metering_2           0\n",
      "Sub_metering_3           0\n",
      "Datetime                 0\n",
      "dtype: int64\n"
     ]
    }
   ],
   "source": [
    "\n",
    "power[numeric_cols] = power[numeric_cols].astype(float)\n",
    "\n",
    "# Replace NaN with mean for each column\n",
    "power.fillna(power.mean(), inplace=True)\n",
    "\n",
    "# Check if missing values are replaced\n",
    "print(\"Missing values after replacement:\\n\", power.isna().sum())\n"
   ]
  },
  {
   "cell_type": "code",
   "execution_count": 56,
   "metadata": {},
   "outputs": [
    {
     "name": "stdout",
     "output_type": "stream",
     "text": [
      "✅ CSV file saved successfully as 'cleaned_data.csv'!\n"
     ]
    }
   ],
   "source": [
    "power.to_csv(\"cleaned_data.csv\", index=False, float_format=\"%.3f\")\n",
    "\n",
    "print(\"✅ CSV file saved successfully as 'cleaned_data.csv'!\")\n"
   ]
  },
  {
   "cell_type": "code",
   "execution_count": 14,
   "metadata": {},
   "outputs": [
    {
     "data": {
      "text/plain": [
       "Global_active_power      0\n",
       "Global_reactive_power    0\n",
       "Voltage                  0\n",
       "Global_intensity         0\n",
       "Sub_metering_1           0\n",
       "Sub_metering_2           0\n",
       "Sub_metering_3           0\n",
       "Datetime                 0\n",
       "dtype: int64"
      ]
     },
     "execution_count": 14,
     "metadata": {},
     "output_type": "execute_result"
    }
   ],
   "source": [
    "p1=pd.read_csv(r'cleaned_data1.csv')\n",
    "p1.isna().sum()"
   ]
  },
  {
   "cell_type": "code",
   "execution_count": 58,
   "metadata": {},
   "outputs": [
    {
     "name": "stdout",
     "output_type": "stream",
     "text": [
      "📊 Total Null Values in Each Column:\n",
      " Global_active_power      0\n",
      "Global_reactive_power    0\n",
      "Voltage                  0\n",
      "Global_intensity         0\n",
      "Sub_metering_1           0\n",
      "Sub_metering_2           0\n",
      "Sub_metering_3           0\n",
      "Datetime                 0\n",
      "dtype: int64\n",
      "\n",
      "🔢 Total Null Values in Dataset: 0\n"
     ]
    }
   ],
   "source": [
    "# Count total NaN values in each column\n",
    "null_counts = p1.isnull().sum()\n",
    "\n",
    "# Print the result\n",
    "print(\"📊 Total Null Values in Each Column:\\n\", null_counts)\n",
    "\n",
    "# Sum of all NaN values in the dataset\n",
    "total_nulls = null_counts.sum()\n",
    "print(\"\\n🔢 Total Null Values in Dataset:\", total_nulls)\n"
   ]
  },
  {
   "cell_type": "code",
   "execution_count": 59,
   "metadata": {},
   "outputs": [
    {
     "name": "stdout",
     "output_type": "stream",
     "text": [
      "📊 Outlier Counts (IQR Method):\n",
      "{'Global_active_power': np.int64(96740), 'Global_reactive_power': np.int64(42234), 'Voltage': np.int64(54737), 'Global_intensity': np.int64(100959), 'Sub_metering_1': np.int64(195082), 'Sub_metering_2': np.int64(77149), 'Sub_metering_3': np.int64(0)}\n"
     ]
    }
   ],
   "source": [
    "import pandas as pd\n",
    "\n",
    "# Function to detect outliers using IQR\n",
    "def detect_outliers_iqr(p1, columns):\n",
    "    outlier_counts = {}\n",
    "    \n",
    "    for col in columns:\n",
    "        Q1 = p1[col].quantile(0.25)  # 25th percentile\n",
    "        Q3 = p1[col].quantile(0.75)  # 75th percentile\n",
    "        IQR = Q3 - Q1  # Interquartile Range\n",
    "\n",
    "        # Define lower and upper bounds\n",
    "        lower_bound = Q1 - 1.5 * IQR\n",
    "        upper_bound = Q3 + 1.5 * IQR\n",
    "\n",
    "        # Count outliers\n",
    "        outlier_counts[col] = ((p1[col] < lower_bound) | (p1[col] > upper_bound)).sum()\n",
    "\n",
    "    return outlier_counts\n",
    "\n",
    "# List of numerical columns to check for outliers\n",
    "numeric_cols = [\"Global_active_power\", \"Global_reactive_power\", \"Voltage\", \n",
    "                \"Global_intensity\", \"Sub_metering_1\", \"Sub_metering_2\", \"Sub_metering_3\"]\n",
    "\n",
    "# Detect outliers\n",
    "outliers = detect_outliers_iqr(p1, numeric_cols)\n",
    "print(\"📊 Outlier Counts (IQR Method):\")\n",
    "print(outliers)\n"
   ]
  },
  {
   "cell_type": "code",
   "execution_count": 60,
   "metadata": {},
   "outputs": [
    {
     "name": "stdout",
     "output_type": "stream",
     "text": [
      "📊 Outlier Counts (Z-Score Method):\n",
      "{'Global_active_power': np.int64(36875), 'Global_reactive_power': np.int64(25003), 'Voltage': np.int64(13385), 'Global_intensity': np.int64(37432), 'Sub_metering_1': np.int64(56095), 'Sub_metering_2': np.int64(50991), 'Sub_metering_3': np.int64(0)}\n"
     ]
    }
   ],
   "source": [
    "from scipy import stats\n",
    "import numpy as np\n",
    "\n",
    "# Function to detect outliers using Z-score\n",
    "def detect_outliers_zscore(p1, columns, threshold=3):\n",
    "    outlier_counts = {}\n",
    "    \n",
    "    for col in columns:\n",
    "        z_scores = np.abs(stats.zscore(p1[col]))  # Compute Z-score\n",
    "        outlier_counts[col] = (z_scores > threshold).sum()  # Count outliers\n",
    "\n",
    "    return outlier_counts\n",
    "\n",
    "# Detect outliers using Z-score\n",
    "outliers_zscore = detect_outliers_zscore(p1, numeric_cols)\n",
    "print(\"📊 Outlier Counts (Z-Score Method):\")\n",
    "print(outliers_zscore)\n"
   ]
  },
  {
   "cell_type": "code",
   "execution_count": 62,
   "metadata": {},
   "outputs": [
    {
     "data": {
      "image/png": "[encoded data removed]",
      "text/plain": [
       "<Figure size 1500x1000 with 7 Axes>"
      ]
     },
     "metadata": {},
     "output_type": "display_data"
    }
   ],
   "source": [
    "import pandas as pd\n",
    "import matplotlib.pyplot as plt\n",
    "import seaborn as sns\n",
    "\n",
    "# Set style for better visuals\n",
    "sns.set(style=\"whitegrid\")\n",
    "\n",
    "# List of numerical columns\n",
    "numeric_cols = [\"Global_active_power\", \"Global_reactive_power\", \"Voltage\", \n",
    "                \"Global_intensity\", \"Sub_metering_1\", \"Sub_metering_2\", \"Sub_metering_3\"]\n",
    "\n",
    "# Create boxplots for each column\n",
    "plt.figure(figsize=(15, 10))\n",
    "for i, col in enumerate(numeric_cols, 1):\n",
    "    plt.subplot(3, 3, i)  # Create a subplot for each column\n",
    "    sns.boxplot(y=p1[col], color=\"skyblue\")\n",
    "    plt.title(f\"Boxplot of {col}\")\n",
    "\n",
    "plt.tight_layout()  # Adjust layout for better visibility\n",
    "plt.show()\n"
   ]
  },
  {
   "cell_type": "code",
   "execution_count": 76,
   "metadata": {},
   "outputs": [
    {
     "name": "stdout",
     "output_type": "stream",
     "text": [
      "Global_active_power        0.630\n",
      "Global_reactive_power      0.124\n",
      "Voltage                  240.960\n",
      "Global_intensity           2.800\n",
      "Sub_metering_1             1.122\n",
      "Sub_metering_2             1.000\n",
      "Sub_metering_3            17.000\n",
      "dtype: float64\n"
     ]
    }
   ],
   "source": [
    "\n",
    "# Function to compute median ignoring 0s and NaNs\n",
    "def custom_median(series):\n",
    "    filtered_series = series[(series != 0) & (~series.isna())]  # Exclude 0 and NaN\n",
    "    return filtered_series.median() if not filtered_series.empty else np.nan  # Return NaN if no valid data\n",
    "\n",
    "# Apply function to all numeric columns\n",
    "median_values = p1.select_dtypes(include=[np.number]).apply(custom_median)\n",
    "\n",
    "# Display median values\n",
    "print(median_values)\n"
   ]
  },
  {
   "cell_type": "code",
   "execution_count": 79,
   "metadata": {},
   "outputs": [
    {
     "name": "stdout",
     "output_type": "stream",
     "text": [
      "Outliers replaced with median values successfully!\n"
     ]
    }
   ],
   "source": [
    "\n",
    "\n",
    "# Given median values\n",
    "median_values = {\n",
    "    \"Global_active_power\": 0.630,\n",
    "    \"Global_reactive_power\": 0.124,\n",
    "    \"Voltage\": 240.960,\n",
    "    \"Global_intensity\": 2.800,\n",
    "    \"Sub_metering_1\": 1.122,\n",
    "    \"Sub_metering_2\": 1.000,\n",
    "    \"Sub_metering_3\": 17.000\n",
    "}\n",
    "\n",
    "# Function to detect and replace outliers using IQR method\n",
    "def replace_outliers_with_median(p1, median_values):\n",
    "    for col in median_values.keys():\n",
    "        if col in df.columns:\n",
    "            Q1 = p1[col].quantile(0.25)\n",
    "            Q3 = p1[col].quantile(0.75)\n",
    "            IQR = Q3 - Q1\n",
    "            \n",
    "            # Define outlier thresholds\n",
    "            lower_bound = Q1 - 1.5 * IQR\n",
    "            upper_bound = Q3 + 1.5 * IQR\n",
    "\n",
    "            # Replace outliers with median\n",
    "            df[col] = np.where((p1[col] < lower_bound) | (p1[col] > upper_bound), \n",
    "                               median_values[col], \n",
    "                               p1[col])\n",
    "    return p1\n",
    "\n",
    "# Apply function\n",
    "p1 = replace_outliers_with_median(p1, median_values)\n",
    "\n",
    "# Save cleaned data\n",
    "p1.to_csv(\"cleaned_data1.csv\", index=False,float_format=\"%.3f\")\n",
    "\n",
    "# Show the result\n",
    "print(\"Outliers replaced with median values successfully!\")\n"
   ]
  },
  {
   "cell_type": "code",
   "execution_count": 15,
   "metadata": {},
   "outputs": [
    {
     "name": "stdout",
     "output_type": "stream",
     "text": [
      "   Global_active_power  Global_reactive_power   Voltage  Global_intensity  \\\n",
      "0             2.974208               2.626809 -1.863819          3.118413   \n",
      "1             4.062543               2.787521 -2.239514          4.159980   \n",
      "2             4.076364               3.341657 -2.344470          4.159980   \n",
      "3             4.089032               3.377657 -2.204926          4.159980   \n",
      "4             2.450194               3.609082 -1.602621          2.529702   \n",
      "\n",
      "   Sub_metering_1  Sub_metering_2  Sub_metering_3  \n",
      "0       -0.183486       -0.051595        1.256995  \n",
      "1       -0.183486       -0.051595        1.137377  \n",
      "2       -0.183486        0.121254        1.256995  \n",
      "3       -0.183486       -0.051595        1.256995  \n",
      "4       -0.183486       -0.051595        1.256995  \n",
      "✅ CSV file saved successfully as 'cleaned_data2.csv'!\n"
     ]
    }
   ],
   "source": [
    "import pandas as pd\n",
    "from sklearn.preprocessing import StandardScaler\n",
    "\n",
    "\n",
    "\n",
    "# Drop non-numeric columns if necessary\n",
    "if \"Datetime\" in p1.columns:\n",
    "    p1 = p1.drop(columns=[\"Datetime\"])\n",
    "\n",
    "# Apply StandardScaler\n",
    "scaler = StandardScaler()\n",
    "df_scaled = pd.DataFrame(scaler.fit_transform(p1), columns=p1.columns)\n",
    "\n",
    "# Display scaled data\n",
    "print(df_scaled.head())\n",
    "\n",
    "\n",
    "df_scaled.to_csv(\"cleaned_data2.csv\", index=False, float_format=\"%.3f\")\n",
    "\n",
    "print(\"✅ CSV file saved successfully as 'cleaned_data2.csv'!\")\n"
   ]
  }
 ],
 "metadata": {
  "kernelspec": {
   "display_name": "Python 3",
   "language": "python",
   "name": "python3"
  },
  "language_info": {
   "codemirror_mode": {
    "name": "ipython",
    "version": 3
   },
   "file_extension": ".py",
   "mimetype": "text/x-python",
   "name": "python",
   "nbconvert_exporter": "python",
   "pygments_lexer": "ipython3",
   "version": "3.12.5"
  }
 },
 "nbformat": 4,
 "nbformat_minor": 2
}
